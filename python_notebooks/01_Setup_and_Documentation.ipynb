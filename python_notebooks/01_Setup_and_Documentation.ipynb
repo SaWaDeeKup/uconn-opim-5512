{
  "nbformat": 4,
  "nbformat_minor": 0,
  "metadata": {
    "colab": {
      "provenance": []
    },
    "kernelspec": {
      "name": "python3",
      "display_name": "Python 3"
    },
    "language_info": {
      "name": "python"
    }
  },
  "cells": [
    {
      "cell_type": "markdown",
      "source": [
        "## **#01. Setup and Documentation with Python in Google Colab**\n",
        "- Instructor: [Jaeung Sim](https://jaeungs.github.io/) (University of Connecticut)\n",
        "- Course: OPIM 5512: Data Science Using Python\n",
        "- Last updated: January 23, 2025"
      ],
      "metadata": {
        "id": "OSLYPGjyI1vi"
      }
    },
    {
      "cell_type": "markdown",
      "source": [
        "**Objectives**\n",
        "1. Set your Colab environment using Google Drive.\n",
        "2. Understand basic commands and functions in Python.\n",
        "3. Express and export documents using Markdown.\n",
        "\n",
        "**References**\n",
        "* [Welcome to Colab!](https://colab.research.google.com/)\n",
        "* [Introduction to Python - W3Schools](https://www.w3schools.com/python/default.asp)\n",
        "* [Markdown Guide](https://www.markdownguide.org/)"
      ],
      "metadata": {
        "id": "OuEFx2LwJUNH"
      }
    },
    {
      "cell_type": "markdown",
      "source": [
        "### **Part 1: Colab Environment**\n",
        "* Connect your Google Drive with Colab.\n",
        "* Set your path and load files.\n",
        "* Import and export Python codes."
      ],
      "metadata": {
        "id": "pCCWRGfgJrQd"
      }
    },
    {
      "cell_type": "markdown",
      "source": [
        "Step 1. Access to https://colab.research.google.com/\n",
        "\n",
        "Step 2. Start a notebook (File > \"New notebook\" or \"Open notebook\" or \"Upload notebook\")\n",
        "\n",
        "Step 3. Open your Google Drive folder (Colab Notebooks) and check your notebook.\n",
        "\n",
        "Step 4. Set a specific folder in Google Drive as your working directory."
      ],
      "metadata": {
        "id": "pGn3e24nJ1vC"
      }
    },
    {
      "cell_type": "code",
      "execution_count": null,
      "metadata": {
        "id": "LR0HWJWmIjkH"
      },
      "outputs": [],
      "source": [
        "# Import Google Drive to Colab\n",
        "from google.colab import drive\n",
        "drive.mount('/content/drive')"
      ]
    },
    {
      "cell_type": "code",
      "source": [
        "# Check your current directory\n",
        "import os\n",
        "os.getcwd()"
      ],
      "metadata": {
        "id": "liOzvp-pN3aU"
      },
      "execution_count": null,
      "outputs": []
    },
    {
      "cell_type": "code",
      "source": [
        "# Set your working directory\n",
        "os.chdir('/content/drive/My Drive/Colab Notebooks/OPIM 5512 (Spring 2025)') # Change the directory to your own"
      ],
      "metadata": {
        "id": "pHvCiirIN5fW"
      },
      "execution_count": null,
      "outputs": []
    },
    {
      "cell_type": "markdown",
      "source": [
        "### **Part 2: Basic Commands in Python**\n",
        "* Execute and revise code cells.\n",
        "* Import and use libraries.\n",
        "* Define a function and calculate numbers.\n"
      ],
      "metadata": {
        "id": "EV_AvD23N9q1"
      }
    },
    {
      "cell_type": "markdown",
      "source": [
        "### **2.1. Understanding code cells**"
      ],
      "metadata": {
        "id": "rD-hMt-3vweu"
      }
    },
    {
      "cell_type": "code",
      "source": [
        "# Type 'ctrl' + 'enter'\n",
        "print(\"Hello, Huskies!\")"
      ],
      "metadata": {
        "id": "ueANHtw0UO1Q"
      },
      "execution_count": null,
      "outputs": []
    },
    {
      "cell_type": "code",
      "source": [
        "# Revise the code to print the sentence \"Goodbye, Wolves!\"\n",
        "print(\"Hello, Huskies!\")"
      ],
      "metadata": {
        "id": "3zB5W93fv0nU"
      },
      "execution_count": null,
      "outputs": []
    },
    {
      "cell_type": "code",
      "source": [
        "# Define a variable and print its value\n",
        "x = 5\n",
        "y = \"John\"\n",
        "print(x)\n",
        "print(y)\n",
        "print(type(x))\n",
        "print(type(y))"
      ],
      "metadata": {
        "id": "cEJ_YN-bv6dC"
      },
      "execution_count": null,
      "outputs": []
    },
    {
      "cell_type": "code",
      "source": [
        "# Only the most recent definition works\n",
        "x = 4       # x is of type int\n",
        "x = \"Sally\" # x is now of type str\n",
        "print(x)\n",
        "x"
      ],
      "metadata": {
        "id": "yKNxhzYwv8_c"
      },
      "execution_count": null,
      "outputs": []
    },
    {
      "cell_type": "code",
      "source": [
        "# Define a variable with calculation\n",
        "seconds_in_a_day = 24 * 60 * 60\n",
        "print(seconds_in_a_day)\n",
        "\n",
        "seconds_in_a_week = 7 * seconds_in_a_day\n",
        "seconds_in_a_week"
      ],
      "metadata": {
        "id": "t5hDYHSvwCkA"
      },
      "execution_count": null,
      "outputs": []
    },
    {
      "cell_type": "code",
      "source": [
        "# Need indentation to remove an error\n",
        "if 5 > 2:\n",
        "  print(\"Five is greater than two!\") # Space or tab here"
      ],
      "metadata": {
        "id": "fHPrjjVMwFkq"
      },
      "execution_count": null,
      "outputs": []
    },
    {
      "cell_type": "code",
      "source": [
        "# Try the if...else function with different numbers\n",
        "a = 400\n",
        "b = 200\n",
        "if b > a:\n",
        "  print(\"b is greater than a\")\n",
        "elif a == b:\n",
        "  print(\"a and b are equal\")\n",
        "else:\n",
        "  print(\"a is greater than b\")"
      ],
      "metadata": {
        "id": "LuSzyCWcwH8y"
      },
      "execution_count": null,
      "outputs": []
    },
    {
      "cell_type": "markdown",
      "source": [
        "### **2.2. Defining a function**"
      ],
      "metadata": {
        "id": "AdoGAXiEwKfT"
      }
    },
    {
      "cell_type": "markdown",
      "source": [
        "In Python, a function is a block of organized, reusable code that is used to perform a single, related action. Functions provide better modularity for your application and a high degree of code reusability.\n",
        "\n",
        "Defining a function in Python involves a few key components and a basic structure that can be extended based on the complexity of the task the function is designed to perform."
      ],
      "metadata": {
        "id": "KPBlcCWNwRca"
      }
    },
    {
      "cell_type": "markdown",
      "source": [
        "**1. Function Definition:** To define a function, you use the `def` keyword, followed by the function name and parentheses. The general syntax looks like this:\n",
        "\n",
        "```python\n",
        "def function_name(parameters):\n",
        "    # function body\n",
        "```\n",
        "\n",
        "**2. Parameters (Optional):** Inside the parentheses, you can optionally list parameters (also known as arguments) separated by commas. These parameters are inputs that the function can accept, allowing you to pass different values to the function each time you call it.\n",
        "\n",
        "**3. Function Body:** After the colon, the next line starts the block of code known as the function body. This is where you write the code that defines what the function should do. The function body is indented, usually by four spaces. This indentation is essential, as Python uses whitespace to define scope.\n",
        "\n",
        "**4. Return Statement (Optional):** Within the function body, you can optionally include a `return` statement. This statement specifies what value the function should return after it finishes executing. If there is no `return` statement, the function will return `None` by default.\n",
        "\n",
        "**5. Calling a Function:** Once a function is defined, you can call it from other parts of your code using its name followed by parentheses. If the function expects parameters, you provide values within these parentheses."
      ],
      "metadata": {
        "id": "luxsqb_BwUcW"
      }
    },
    {
      "cell_type": "code",
      "source": [
        "# Define a function\n",
        "def greet(name): # Function definition\n",
        "    return f\"Hello, {name}!\" # Function body (`f` formatted string)\n",
        "\n",
        "# Call the function\n",
        "print(greet(\"Huskies\"))"
      ],
      "metadata": {
        "id": "1YTOUsbvwLv5"
      },
      "execution_count": null,
      "outputs": []
    },
    {
      "cell_type": "markdown",
      "source": [
        "**Exercise #1.** Define a function that receives three numbers `a`, `b` and `c` as inputs and returns $a^{b+c}$ by revising the following code:"
      ],
      "metadata": {
        "id": "_p6ia16IwqFj"
      }
    },
    {
      "cell_type": "code",
      "source": [
        "def power(): # Set parameters\n",
        "  return # Function body (hint: ** is the exponentiation operator)"
      ],
      "metadata": {
        "id": "g3MCcPOwwpvc"
      },
      "execution_count": null,
      "outputs": []
    },
    {
      "cell_type": "code",
      "source": [
        "# Run the code to show the results\n",
        "print(power(1, 1, 1))\n",
        "print(power(2, 2, 1))"
      ],
      "metadata": {
        "id": "3i3Dx6rUwsRD"
      },
      "execution_count": null,
      "outputs": []
    },
    {
      "cell_type": "markdown",
      "source": [
        "**Exercise #2.** Define a function that receives number `x` as a parameter and returns strings based on the following rules.\n",
        "\n",
        "* If $x>0$, return \"Positive\".\n",
        "* If $x=0$, return \"Zero\".\n",
        "* Otherwise, return \"Negative\"."
      ],
      "metadata": {
        "id": "8Ck09BMjw_Ib"
      }
    },
    {
      "cell_type": "code",
      "source": [
        "def sign(x): # Set the parameter\n",
        "  if x > 0:\n",
        "    return \"Positive\"\n",
        "  elif : # Condition 2 (Hint: ==)\n",
        "    return \"Zero\"\n",
        "  : # Condition 3\n",
        "    return # Result 3"
      ],
      "metadata": {
        "id": "uPO1SBPBxCGO"
      },
      "execution_count": null,
      "outputs": []
    },
    {
      "cell_type": "code",
      "source": [
        "# Run the code to show the results\n",
        "print(sign(1))  # Outputs: \"Positive\"\n",
        "print(sign(0))   # Outputs: \"Zero\"\n",
        "print(sign(-1))  # Outputs: \"Negative\""
      ],
      "metadata": {
        "id": "Q0StiprIxC7C"
      },
      "execution_count": null,
      "outputs": []
    },
    {
      "cell_type": "markdown",
      "source": [
        "### **Part 3: Markdown**\n",
        "* Practice Markdown for documentation.\n",
        "* Export documents in various forms."
      ],
      "metadata": {
        "id": "ECDNGnCFOUE1"
      }
    },
    {
      "cell_type": "markdown",
      "source": [
        "**What is Markdown?**\n",
        "\n",
        "Colab has two types of cells: **text** and **code**. Text cells are formatted using a simple markup language called Markdown.\n",
        "\n",
        "To see the Markdown source, double-click a text cell, showing both the Markdown source and the rendered version. Above the Markdown source there is a toolbar to assist editing."
      ],
      "metadata": {
        "id": "V3HtkaxaOY0b"
      }
    },
    {
      "cell_type": "markdown",
      "source": [
        "#### **3.1. How to make titles/sections**"
      ],
      "metadata": {
        "id": "pIiSQn2HRnwK"
      }
    },
    {
      "cell_type": "markdown",
      "source": [
        "# Section 1\n",
        "## Section 1.1"
      ],
      "metadata": {
        "id": "TxfrN7IhQ5-c"
      }
    },
    {
      "cell_type": "code",
      "source": [
        "print(\"Hi!\")"
      ],
      "metadata": {
        "id": "P-Wvk0BAQ7zM"
      },
      "execution_count": null,
      "outputs": []
    },
    {
      "cell_type": "markdown",
      "source": [
        "# Section 2\n",
        "## Section 2.1\n",
        "### **Section 2.1.1**\n",
        "\n",
        "Sections are not **bold** by default.\n",
        "\n",
        "#### Section 2.1.1.1\n",
        "\n",
        "### Section 2.0.0.0.0.0.0.0.0.0.0.0.0.0.0.\n",
        "\n",
        "Section numbers are not automatically assigned here."
      ],
      "metadata": {
        "id": "xZ0wc0tFQ-nX"
      }
    },
    {
      "cell_type": "code",
      "source": [
        "print(\"Hello!\")"
      ],
      "metadata": {
        "id": "17Ma5C_JRy9d"
      },
      "execution_count": null,
      "outputs": []
    },
    {
      "cell_type": "markdown",
      "source": [
        "#### Section 2.2"
      ],
      "metadata": {
        "id": "Pt_z27QYRDQo"
      }
    },
    {
      "cell_type": "markdown",
      "source": [
        "This sub-sub-sub section belongs to Section 2, so you can hide this with Section 2's toggle.\n",
        "\n",
        "A separate text block enables you to hide blocks separately."
      ],
      "metadata": {
        "id": "lNv-hET5RI73"
      }
    },
    {
      "cell_type": "code",
      "source": [
        "print(\"Hola!\")"
      ],
      "metadata": {
        "id": "-eyjJTOxQ96a"
      },
      "execution_count": null,
      "outputs": []
    },
    {
      "cell_type": "markdown",
      "source": [
        "#### **3.2. How to make lists, blockquotes, and horizontal rules**"
      ],
      "metadata": {
        "id": "qygdu-5jUa1d"
      }
    },
    {
      "cell_type": "markdown",
      "source": [
        "Ordered list\n",
        "1. One\n",
        "1. Two\n",
        "1. Three\n",
        "127. I typed '127' but obtained 4.\n",
        "999. I typed '999' but obtained 5."
      ],
      "metadata": {
        "id": "l7IEooZUbm_y"
      }
    },
    {
      "cell_type": "markdown",
      "source": [
        "Unorderd list\n",
        "* One\n",
        "* Two\n",
        "* Three\n",
        "* '*' works.\n",
        "+ '+' also works.\n",
        "- '-' even works in the same way."
      ],
      "metadata": {
        "id": "-7x_HnMddLW6"
      }
    },
    {
      "cell_type": "markdown",
      "source": [
        "List with multiple levels\n",
        "1. First level\n",
        "  1. Second level (indented)\n",
        "    1. Third level (indented twice)\n",
        "    1. Third level (indented twice)\n",
        "    * Third level (indented twice, no numbering)\n",
        "    1. Third level (indented twice) (numbering reset)\n",
        "  1. Second level (indented)\n",
        "  * Second level (indented, no numbering)\n",
        "    * Third level (indented twice, no numbering)\n",
        "  1. Second level (indented) (numbering reset)\n"
      ],
      "metadata": {
        "id": "hWgUkIAHdbtx"
      }
    },
    {
      "cell_type": "markdown",
      "source": [
        "Blockquotes\n",
        ">One level of indentation\n",
        ">>Two levels of indentation\n",
        ">>>Three levels of indentation"
      ],
      "metadata": {
        "id": "3ZbrP36uUgHT"
      }
    },
    {
      "cell_type": "markdown",
      "source": [
        "Blockquotes with multiple paragraphs\n",
        "> The first paragraph\n",
        ">\n",
        "> To make the second paragraph, insert `>` between the two paragraphs"
      ],
      "metadata": {
        "id": "qcDU4RYqe8HK"
      }
    },
    {
      "cell_type": "markdown",
      "source": [
        "Nested blockquotes\n",
        "> The first paragraph\n",
        ">\n",
        ">> To make the second paragraph, insert `>` between the two paragraphs. Sub-blockquotes need `>>` on this line.\n",
        ">>\n",
        ">> You can also make multiple paragraphs within the sub-blockquotes.\n",
        ">\n",
        "> The fourth paragraph"
      ],
      "metadata": {
        "id": "uzBtT8Eef4C0"
      }
    },
    {
      "cell_type": "markdown",
      "source": [
        "#### **3.3. How to edit texts, images, and code blocks**"
      ],
      "metadata": {
        "id": "LUAEZjq8hgqG"
      }
    },
    {
      "cell_type": "markdown",
      "source": [
        "**Bold** *Italic* `Code` [Link](https://colab.research.google.com/) ~~strikethrough~~"
      ],
      "metadata": {
        "id": "_CyCje8nhqG9"
      }
    },
    {
      "cell_type": "markdown",
      "source": [
        "**URL and email addresses**\n",
        "\n",
        "To quickly turn a URL or email addresses into a link, enclose it in angle brackets (`<>`).\n",
        "* <https://github.com/jaeungs/uconn-opim-5512>\n",
        "* <jaeung.sim@uconn.edu>"
      ],
      "metadata": {
        "id": "NfKOVEach6SS"
      }
    },
    {
      "cell_type": "markdown",
      "source": [
        "**Inserting images:** Two different ways\n",
        "\n",
        "![Image](https://upload.wikimedia.org/wikipedia/en/thumb/b/b0/Connecticut_Huskies_logo.svg/225px-Connecticut_Huskies_logo.svg.png)\n",
        "\n",
        "<img src=\"https://upload.wikimedia.org/wikipedia/en/thumb/b/b0/Connecticut_Huskies_logo.svg/225px-Connecticut_Huskies_logo.svg.png\" width=\"200\" height=\"240\">"
      ],
      "metadata": {
        "id": "vs_5ZyBehuHI"
      }
    },
    {
      "cell_type": "markdown",
      "source": [
        "**How to make a code block in a text block**\n",
        "\n",
        "```python\n",
        "print(\"a\")\n",
        "```\n",
        "\n",
        "```r\n",
        "print(\"a\")\n",
        "```\n",
        "\n",
        "```java\n",
        "print(\"a\")\n",
        "```\n",
        "\n",
        "```starbucks\n",
        "print(\"a\")\n",
        "```\n",
        "\n",
        "```\n",
        "print(\"a\")\n",
        "```"
      ],
      "metadata": {
        "id": "eEVT6Do3kf24"
      }
    },
    {
      "cell_type": "markdown",
      "source": [
        "**Another way to make code blocks**\n",
        "\n",
        "This is a normal paragraph.\n",
        "\n",
        "  This is still a normal one.\n",
        "\n",
        "    This is a code block.\n",
        "      This is within a code block.   \n",
        "\n",
        "      This is within a code block."
      ],
      "metadata": {
        "id": "51M3COyEkvqr"
      }
    },
    {
      "cell_type": "markdown",
      "source": [
        "#### **3.4. How to draw horizontal rules and tables**"
      ],
      "metadata": {
        "id": "t1m1C7nwk_8o"
      }
    },
    {
      "cell_type": "markdown",
      "source": [
        "**Horizontal rules**\n",
        "\n",
        "*\n",
        "\n",
        "**\n",
        "\n",
        "***\n",
        "\n",
        "* * *\n",
        "\n",
        "***********\n",
        "\n",
        "-\n",
        "\n",
        "--\n",
        "\n",
        "---\n",
        "\n",
        "- - -\n",
        "\n",
        "-----------\n",
        "\n",
        "_\n",
        "\n",
        "__\n",
        "\n",
        "___\n",
        "\n",
        "_ _ _\n",
        "\n",
        "___________"
      ],
      "metadata": {
        "id": "3yaAr3STlCLn"
      }
    },
    {
      "cell_type": "markdown",
      "source": [
        "**How to draw a table**\n",
        "\n",
        "First column name  | Second column name\n",
        "-------------------|------------------\n",
        "Row 1, Col 1       | Row 1, Col 2\n",
        "Row 2, Col 1       | Row 2, Col 2"
      ],
      "metadata": {
        "id": "_1Se7hOwmWOR"
      }
    },
    {
      "cell_type": "markdown",
      "source": [
        "#### **3.5. Mathematical expressions** (exactly same as LaTeX)"
      ],
      "metadata": {
        "id": "5vrGdIR9mbkp"
      }
    },
    {
      "cell_type": "markdown",
      "source": [
        "Some useful examples:\n",
        "* `$a^b$`: $a^b$\n",
        "* `$a^{bc}$`: $a^{bc}$\n",
        "* `$\\frac{a}{b}$`: $\\frac{a}{b}$\n",
        "* `$\\pm$`: $\\pm$\n",
        "* `$\\sqrt{x}$`: $\\sqrt{x}$"
      ],
      "metadata": {
        "id": "s7gmdv0umrLt"
      }
    },
    {
      "cell_type": "markdown",
      "source": [
        "Greek letters:\n",
        "* $\\alpha$ $\\beta$ $\\gamma$ $\\delta$ $\\epsilon$\n",
        "* $\\Alpha$ $\\Beta$ $\\Gamma$ $\\Delta$ $\\Epsilon$ (A, B, E are not modeled as Greek)\n"
      ],
      "metadata": {
        "id": "lcVuAUPDnpWA"
      }
    },
    {
      "cell_type": "markdown",
      "source": [
        "Large operators:\n",
        "* $\\int$ $\\oint$ $\\sum$ $\\prod$"
      ],
      "metadata": {
        "id": "ZJ49gEJXoHuf"
      }
    },
    {
      "cell_type": "markdown",
      "source": [
        "Advanced examples:\n",
        "\n",
        "* $e^{i\\pi} + 1 = 0$\n",
        "\n",
        "* $e^x=\\sum_{i=0}^\\infty \\frac{1}{i!}x^i$\n",
        "\n",
        "* $\\frac{n!}{k!(n-k)!} = {n \\choose k}$\n",
        "\n",
        "* $A_{m,n} =\n",
        " \\begin{pmatrix}\n",
        "  a_{1,1} & a_{1,2} & \\cdots & a_{1,n} \\\\\n",
        "  a_{2,1} & a_{2,2} & \\cdots & a_{2,n} \\\\\n",
        "  \\vdots  & \\vdots  & \\ddots & \\vdots  \\\\\n",
        "  a_{m,1} & a_{m,2} & \\cdots & a_{m,n}\n",
        " \\end{pmatrix}$"
      ],
      "metadata": {
        "id": "X4L5ucNZnQ2p"
      }
    },
    {
      "cell_type": "markdown",
      "source": [
        "**Exercise #3.** Express the quadratic formula for the equation $ax^2+bx+c=0$ using Markdown language.\n",
        "\n",
        "<img src=\"https://wp.technologyreview.com/wp-content/uploads/2019/12/first-2.png?crop=0px%2C0px%2C634px%2C164px&w=700\" width=\"320\" height=\"90\">"
      ],
      "metadata": {
        "id": "G9Q2wNE9xiPg"
      }
    },
    {
      "cell_type": "markdown",
      "source": [
        "**Your answer here:**\n",
        "\n",
        "Hints:\n",
        "* `\\frac{a}{b}`: $\\frac{a}{b}$\n",
        "* `\\pm`: $\\pm$\n",
        "* `\\sqrt{x}`: $\\sqrt{x}$"
      ],
      "metadata": {
        "id": "5RADaHiKyK1d"
      }
    }
  ]
}