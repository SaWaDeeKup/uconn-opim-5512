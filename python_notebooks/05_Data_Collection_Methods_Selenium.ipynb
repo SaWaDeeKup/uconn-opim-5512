{
 "cells": [
  {
   "cell_type": "markdown",
   "id": "a22655bd",
   "metadata": {},
   "source": [
    "## **#04: Data Collection Methods: Selenium**\n",
    "- Instructor: [Jaeung Sim](https://www.business.uconn.edu/person/jaeung-sim/) (University of Connecticut)\n",
    "- Course: OPIM 5512 Data Science Using Python\n",
    "- Last updated: February 6, 2025"
   ]
  },
  {
   "cell_type": "markdown",
   "id": "b03f3af3",
   "metadata": {},
   "source": [
    "## Selenium\n",
    "\n",
    "Selenium refers to a number of different open-source projects used for browser automation. It supports bindings for all major programming languages, including our favorite language: Python.\n",
    "\n",
    "The Selenium API uses the WebDriver protocol to control web browsers like Chrome, Firefox, or Safari. Selenium can control both, a locally installed browser instance, as well as one running on a remote machine over the network.\n",
    "\n",
    "Selenium provides a wide range of ways to interact with sites, such as:\n",
    "* Clicking buttons\n",
    "* Populating forms with data\n",
    "* Scrolling the page\n",
    "* Taking screenshots\n",
    "* Executing your own, custom JavaScript code\n",
    "\n",
    "But the strongest argument in its favor is the ability to handle sites in a natural way, just as any browser will. This particularly comes to shine with JavaScript-heavy Single-Page Application sites. If you scraped such a site with the traditional combination of HTTP client and HTML parser, you'd mostly have lots of JavaScript files, but not so much data to scrape.\n",
    "\n",
    "**References:**\n",
    "* [Web Scraping Using Selenium And Python](https://www.scrapingbee.com/blog/selenium-python/)"
   ]
  },
  {
   "cell_type": "markdown",
   "id": "5fcf1478",
   "metadata": {},
   "source": [
    "## #1. Basics"
   ]
  },
  {
   "cell_type": "markdown",
   "id": "c8ea82e7",
   "metadata": {},
   "source": [
    "### Installation"
   ]
  },
  {
   "cell_type": "code",
   "execution_count": null,
   "id": "c091cfd6",
   "metadata": {},
   "outputs": [],
   "source": [
    "!pip install selenium"
   ]
  },
  {
   "cell_type": "markdown",
   "id": "8febb01a",
   "metadata": {},
   "source": [
    "### Quickstart\n",
    "\n",
    "1. Check the version of your Chrome.\n",
    "\n",
    ">\"...\" on the up right corner > \"Settings\" > \"About Chrome\"\n",
    "\n",
    "2. Download a ChromeDriver zip file appropriate for your version from https://chromedriver.chromium.org/downloads.\n",
    "3. Unzip the file and move the Chromedriver File to the folder with the current ipynb file."
   ]
  },
  {
   "cell_type": "code",
   "execution_count": null,
   "id": "6cc2ada4",
   "metadata": {},
   "outputs": [],
   "source": [
    "from selenium import webdriver\n",
    "\n",
    "# DRIVER_PATH = '/path/to/chromedriver'\n",
    "# driver = webdriver.Chrome(executable_path=DRIVER_PATH)\n",
    "\n",
    "# Launch ChromeBrower\n",
    "driver = webdriver.Chrome() # Since we have ChromeDriver in our current folder, no need to set the path"
   ]
  },
  {
   "cell_type": "code",
   "execution_count": null,
   "id": "02c00937",
   "metadata": {},
   "outputs": [],
   "source": [
    "# Go to the following site\n",
    "driver.get('https://google.com')"
   ]
  },
  {
   "cell_type": "code",
   "execution_count": null,
   "id": "2857b926",
   "metadata": {},
   "outputs": [],
   "source": [
    "# Go to the following site\n",
    "driver.get('https://imdb.com')"
   ]
  },
  {
   "cell_type": "markdown",
   "id": "3d9ecee5",
   "metadata": {},
   "source": [
    "### Headless option\n",
    "\n",
    "Running the browser from Selenium the way we just did is particularly helpful during development. It allows you observe exactly what's going on and how the page and the browser is behaving in the context of your code. Once you are happy with everything, it is generally advisable, however, to switch to said headless mode in production.\n",
    "\n",
    "In that mode, Selenium will start Chrome in the \"background\" without any visual output or windows."
   ]
  },
  {
   "cell_type": "code",
   "execution_count": null,
   "id": "07eb46a8",
   "metadata": {},
   "outputs": [],
   "source": [
    "from selenium import webdriver\n",
    "from selenium.webdriver.chrome.options import Options\n",
    "\n",
    "options = Options()\n",
    "options.headless = True\n",
    "options.add_argument(\"--window-size=1920,1200\")\n",
    "\n",
    "driver = webdriver.Chrome(options=options)"
   ]
  },
  {
   "cell_type": "markdown",
   "id": "cbaa0844",
   "metadata": {},
   "source": [
    "### 3 ways to close a browser\n",
    "- webDriver.Close() - Close the browser window that the driver has focus of\n",
    "- webDriver.Quit() - Calls Dispose()\n",
    "- webDriver.Dispose() Closes all browser windows and safely ends the session"
   ]
  },
  {
   "cell_type": "code",
   "execution_count": null,
   "id": "644adc92",
   "metadata": {},
   "outputs": [],
   "source": [
    "driver.close()"
   ]
  },
  {
   "cell_type": "markdown",
   "id": "9ca6075a",
   "metadata": {},
   "source": [
    "### Example of extracting the page source in a headless mode"
   ]
  },
  {
   "cell_type": "code",
   "execution_count": null,
   "id": "051d5e3a",
   "metadata": {},
   "outputs": [],
   "source": [
    "from selenium import webdriver\n",
    "from selenium.webdriver.chrome.options import Options\n",
    "\n",
    "options = Options()\n",
    "options.headless = True\n",
    "options.add_argument(\"--window-size=1920,1200\")\n",
    "\n",
    "driver = webdriver.Chrome(options=options)\n",
    "driver.get(\"https://www.imdb.com\")\n",
    "\n",
    "# print the current page source\n",
    "print(driver.page_source)\n",
    "driver.quit()"
   ]
  },
  {
   "cell_type": "markdown",
   "id": "87826d34",
   "metadata": {},
   "source": [
    "### Locating Elements\n",
    "\n",
    "**The `find_element` methods**\n",
    "\n",
    "`WebDriver` provides two main methods for finding elements:\n",
    "- find_element\n",
    "- find_elements\n",
    "\n",
    "They are pretty similar, with the difference that the former looks for one single element, which it returns, whereas the latter will return a list of all found elements.\n",
    "\n",
    "Both methods support eight different search types, indicated with the By class."
   ]
  },
  {
   "cell_type": "markdown",
   "id": "9697ff32",
   "metadata": {},
   "source": [
    "Type\t| Description\t| DOM Sample\t| Example\n",
    "--------|---------------|---------------|-----------------------------\n",
    "By.ID\t| Searches for elements based on their HTML ID\t| `<div id=\"myID\">`\t| `find_element(By.ID, \"myID\")`\n",
    "By.NAME\t| Searches for elements based on their name attribute\t| `<input name=\"myNAME\">`\t| `find_element(By.NAME, \"myNAME\")`\n",
    "By.XPATH\t| Searches for elements based on an XPath expression\t| `<span>My <a>Link</a></span>`\t| `find_element(By.XPATH, \"//span/a\")`\n",
    "By.LINK_TEXT\t| Searches for anchor elements based on a match of their text content\t| `<a>My Link</a>`\t| `find_element(By.LINK_TEXT, \"My Link\")`\n",
    "By.PARTIAL_LINK_TEXT\t| Searches for anchor elements based on a sub-string match of their text content\t| `<a>My Link</a>`\t| `find_element(By.PARTIAL_LINK_TEXT, \"Link\")`\n",
    "By.TAG_NAME\t| Searches for elements based on their tag name\t| `<h1>`\t| `find_element(By.TAG_NAME, \"h1\")`\n",
    "By.CLASS_NAME\t| Searches for elements based on their HTML classes\t| `<div class=\"myCLASS\">`\t| `find_element(By.CLASSNAME, \"myCLASS\")`\n",
    "By.CSS_SELECTOR\t| Searches for elements based on a CSS selector\t| `<span>My <a>Link</a></span>`\t| `find_element(By.CSS_SELECTOR, \"span > a\")`"
   ]
  },
  {
   "cell_type": "markdown",
   "id": "d0655058",
   "metadata": {},
   "source": [
    "## #2. Full Example\n",
    "\n",
    "We will pass the login process and scrape some data from **Hacker News** automatically using `Selenium`. Please visit the following website first: https://news.ycombinator.com/login"
   ]
  },
  {
   "cell_type": "code",
   "execution_count": null,
   "id": "66dbef24",
   "metadata": {},
   "outputs": [],
   "source": [
    "from selenium import webdriver\n",
    "from selenium.webdriver.common.by import By\n",
    "\n",
    "# Launch ChromeBrower\n",
    "driver = webdriver.Chrome()"
   ]
  },
  {
   "cell_type": "code",
   "execution_count": null,
   "id": "207d5ed3",
   "metadata": {},
   "outputs": [],
   "source": [
    "# Go to the following site\n",
    "driver.get(\"https://news.ycombinator.com/login\")\n",
    "\n",
    "USERNAME = \"test06901\"\n",
    "PASSWORD = \"00000000\""
   ]
  },
  {
   "cell_type": "markdown",
   "id": "de394774",
   "metadata": {},
   "source": [
    "After you create your account:"
   ]
  },
  {
   "cell_type": "code",
   "execution_count": null,
   "id": "c275a4ed",
   "metadata": {},
   "outputs": [],
   "source": [
    "# Go to the following site\n",
    "driver.get(\"https://news.ycombinator.com/login\")\n",
    "\n",
    "# Find the first element with tag name \"input\" and input USERNAME into the element\n",
    "login = driver.find_element(By.XPATH, \"//input\").send_keys(USERNAME)\n",
    "# Find the first element with tag name \"input\" that has type \"password\" and input PASSWORD into the element\n",
    "password = driver.find_element(By.XPATH, \"//input[@type='password']\").send_keys(PASSWORD)\n",
    "# Find the first element with tag name \"input\" that has value \"login\" and click it\n",
    "submit = driver.find_element(By.XPATH, \"//input[@value='login']\").click()"
   ]
  },
  {
   "cell_type": "code",
   "execution_count": null,
   "id": "9dfc122e",
   "metadata": {},
   "outputs": [],
   "source": [
    "from selenium.common.exceptions import NoSuchElementException\n",
    "\n",
    "# Check if we succeeded login\n",
    "try:\n",
    "    logout_button = driver.find_element(By.ID, \"logout\")\n",
    "    print('Successfully logged in')\n",
    "except NoSuchElementException:\n",
    "    print('Incorrect login/password')"
   ]
  },
  {
   "cell_type": "code",
   "execution_count": null,
   "id": "e6a0ddf6",
   "metadata": {},
   "outputs": [],
   "source": [
    "# Click the logout button\n",
    "logout = driver.find_element(By.ID, \"logout\").click()"
   ]
  },
  {
   "cell_type": "code",
   "execution_count": null,
   "id": "4997d51b",
   "metadata": {},
   "outputs": [],
   "source": [
    "# Another way to click the logout button\n",
    "logout = driver.find_element(By.XPATH, \"//a[contains(text(), 'logout')]\").click()"
   ]
  },
  {
   "cell_type": "code",
   "execution_count": null,
   "id": "ac2f1681",
   "metadata": {},
   "outputs": [],
   "source": [
    "# Try this again!\n",
    "try:\n",
    "    logout_button = driver.find_element(By.ID, \"logout\")\n",
    "    print('Successfully logged in')\n",
    "except NoSuchElementException:\n",
    "    print('Incorrect login/password')"
   ]
  },
  {
   "cell_type": "markdown",
   "id": "a55ed339",
   "metadata": {},
   "source": [
    "### Taking screenshots"
   ]
  },
  {
   "cell_type": "code",
   "execution_count": null,
   "id": "f97b44e4",
   "metadata": {},
   "outputs": [],
   "source": [
    "driver.save_screenshot('screenshot.png')"
   ]
  },
  {
   "cell_type": "code",
   "execution_count": null,
   "id": "c6a545fa",
   "metadata": {},
   "outputs": [],
   "source": [
    "from IPython.display import Image\n",
    "Image(filename='screenshot.png')"
   ]
  },
  {
   "cell_type": "code",
   "execution_count": null,
   "id": "95dc4250",
   "metadata": {},
   "outputs": [],
   "source": [
    "driver.quit()"
   ]
  },
  {
   "cell_type": "markdown",
   "id": "8da61a61",
   "metadata": {},
   "source": [
    "### Waiting for an element to be present\n",
    "\n",
    "We may have to wait until JavaScript completed its work. There are typically two ways to approach that:\n",
    "\n",
    "* Use `time.sleep()` before taking the screenshot.\n",
    "* Employ a `WebDriverWait` object.\n",
    "\n",
    "If you use a `time.sleep()` you will have to use the most reasonable delay for your use case. The problem is, you're either waiting too long or not long enough and neither is ideal. Also, the site may load slower on your residential ISP connection than when your code is running in production in a datacenter. With `WebDriverWait`, you don't really have to take that into account. It will wait only as long as necessary until the desired element shows up (or it hits a timeout)."
   ]
  },
  {
   "cell_type": "code",
   "execution_count": null,
   "id": "33b3f960",
   "metadata": {},
   "outputs": [],
   "source": [
    "# Launch ChromeBrower\n",
    "driver = webdriver.Chrome()"
   ]
  },
  {
   "cell_type": "code",
   "execution_count": null,
   "id": "77e6d97c",
   "metadata": {},
   "outputs": [],
   "source": [
    "from selenium.webdriver.support.ui import WebDriverWait\n",
    "from selenium.webdriver.support import expected_conditions as EC\n",
    "TIMEOUT = 5\n",
    "try:\n",
    "    driver.get(\"https://news.ycombinator.com/login\")\n",
    "    element = WebDriverWait(driver, TIMEOUT).until(\n",
    "        EC.presence_of_element_located((By.ID, \"mySuperId\"))\n",
    "    )\n",
    "    print(\"Found the element\")\n",
    "except:\n",
    "    print(\"No such element\")"
   ]
  },
  {
   "cell_type": "code",
   "execution_count": null,
   "id": "76d38a62",
   "metadata": {},
   "outputs": [],
   "source": [
    "TIMEOUT = 5\n",
    "try:\n",
    "    driver.get(\"https://news.ycombinator.com/login\")\n",
    "    element = WebDriverWait(driver, TIMEOUT).until(\n",
    "        EC.presence_of_element_located((By.XPATH, \"//input[@value='login']\"))\n",
    "    )\n",
    "    print(\"Found the element\")\n",
    "except:\n",
    "    print(\"No such element\")"
   ]
  },
  {
   "cell_type": "code",
   "execution_count": null,
   "id": "b2b613e1",
   "metadata": {},
   "outputs": [],
   "source": [
    "driver.quit()"
   ]
  },
  {
   "cell_type": "markdown",
   "id": "5ae8cb38",
   "metadata": {},
   "source": [
    "### Extract text and href data"
   ]
  },
  {
   "cell_type": "code",
   "execution_count": null,
   "id": "eceb0e8b",
   "metadata": {},
   "outputs": [],
   "source": [
    "# Launch ChromeBrower\n",
    "driver = webdriver.Chrome()\n",
    "\n",
    "# Go to the following site\n",
    "driver.get(\"https://news.ycombinator.com/\")"
   ]
  },
  {
   "cell_type": "code",
   "execution_count": null,
   "id": "6d484a6d",
   "metadata": {},
   "outputs": [],
   "source": [
    "import pandas as pd\n",
    "\n",
    "# Get all rank elements into a list\n",
    "ranks = driver.find_elements(By.CLASS_NAME, \"rank\")\n",
    "# Get all title elements into a list\n",
    "titles = driver.find_elements(By.CLASS_NAME, \"titleline\")\n",
    "# Get all detail elements into a list\n",
    "details = driver.find_elements(By.CLASS_NAME, \"subtext\")\n",
    "\n",
    "df = pd.DataFrame()\n",
    "\n",
    "for i in range(len(ranks)):\n",
    "    dt = dict()\n",
    "    \n",
    "    # For each element in list get rank, href, title, and detail info, and put them into a dictionary\n",
    "    dt['rank'] = ranks[i].text\n",
    "    dt['href'] = titles[i].find_element(By.TAG_NAME, \"a\").get_attribute('href')\n",
    "    dt['title'] = titles[i].find_element(By.TAG_NAME, \"a\").text\n",
    "    dt['detail'] = details[i].text\n",
    "    \n",
    "    # Convert above dictionary to a single-row dataframe and accumulate them into a single dataframe\n",
    "    df = pd.concat([df, pd.DataFrame([dt])])"
   ]
  },
  {
   "cell_type": "code",
   "execution_count": null,
   "id": "06f8ad18",
   "metadata": {},
   "outputs": [],
   "source": [
    "df"
   ]
  }
 ],
 "metadata": {
  "kernelspec": {
   "display_name": "Python 3 (ipykernel)",
   "language": "python",
   "name": "python3"
  },
  "language_info": {
   "codemirror_mode": {
    "name": "ipython",
    "version": 3
   },
   "file_extension": ".py",
   "mimetype": "text/x-python",
   "name": "python",
   "nbconvert_exporter": "python",
   "pygments_lexer": "ipython3",
   "version": "3.9.12"
  }
 },
 "nbformat": 4,
 "nbformat_minor": 5
}
