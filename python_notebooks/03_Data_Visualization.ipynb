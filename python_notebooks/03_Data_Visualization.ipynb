{
  "nbformat": 4,
  "nbformat_minor": 0,
  "metadata": {
    "colab": {
      "provenance": []
    },
    "kernelspec": {
      "name": "python3",
      "display_name": "Python 3"
    },
    "language_info": {
      "name": "python"
    }
  },
  "cells": [
    {
      "cell_type": "markdown",
      "source": [
        "## **#03: Data Visualization**\n",
        "- Instructor: [Jaeung Sim](https://www.business.uconn.edu/person/jaeung-sim/) (University of Connecticut)\n",
        "- Course: OPIM 5512 Data Science Using Python\n",
        "- Last updated: January 29, 2025"
      ],
      "metadata": {
        "id": "i1P5eCBZRodk"
      }
    },
    {
      "cell_type": "markdown",
      "source": [
        "**Objectives**\n",
        "1. Understand `matplotlib` for basic visualization.\n",
        "\n",
        "1. Explore advanced features in `matplotlib`.\n",
        "\n",
        "1. Explore geospatial data visualization using `plotly`.\n",
        "\n",
        "**References**\n",
        "* [Matplotlib](https://matplotlib.org/)\n",
        "* [Plotly Python Open Source Graphing Library Maps](https://plotly.com/python/maps/)\n"
      ],
      "metadata": {
        "id": "dnpvZ5bSTAdT"
      }
    },
    {
      "cell_type": "markdown",
      "source": [
        "### **Part 1. `matplotlib`**"
      ],
      "metadata": {
        "id": "Fb0wyWSUCYC6"
      }
    },
    {
      "cell_type": "code",
      "source": [
        "# Run this code to import the NumPy and Pandas modules\n",
        "import numpy as np\n",
        "import pandas as pd"
      ],
      "metadata": {
        "id": "Bz8g7Ji1Ck44"
      },
      "execution_count": null,
      "outputs": []
    },
    {
      "cell_type": "code",
      "source": [
        "# Import the 'matplotlib' library\n",
        "import matplotlib as mpl\n",
        "import matplotlib.pyplot as plt"
      ],
      "metadata": {
        "id": "wInTtmqGFrsJ"
      },
      "execution_count": null,
      "outputs": []
    },
    {
      "cell_type": "markdown",
      "source": [
        "**1.1. ``matplotlib`` Tutorial and Basic Plots**"
      ],
      "metadata": {
        "id": "3QcL74zMFY8W"
      }
    },
    {
      "cell_type": "markdown",
      "source": [
        "**1.1.1. Anotomy of `matplotlib` figures**\n",
        "\n",
        "<img src=\"https://matplotlib.org/stable/_images/anatomy.png\" width=\"700\" height=\"700\">"
      ],
      "metadata": {
        "id": "zS-A5ev1GMBA"
      }
    },
    {
      "cell_type": "markdown",
      "source": [
        "**A. `pyplot`-style Expression**\n",
        "\n",
        "`matplotlib.pyplot` is a collection of functions that make matplotlib work like MATLAB. Each `pyplot` function alters a figure in some way, such as creating a figure, creating a plotting area in a figure, plotting some lines in a plotting area, decorating the plot with labels, etc."
      ],
      "metadata": {
        "id": "zfB19dxdA9t_"
      }
    },
    {
      "cell_type": "code",
      "source": [
        "# Draw a line with y-value only\n",
        "plt.plot([5, 4, 3, 2, 1]) # Corresponding to y-array of [0, 1, 2, 3, 4]\n",
        "plt.ylabel('some numbers')\n",
        "plt.show()"
      ],
      "metadata": {
        "id": "MDsEwgzoJZXF"
      },
      "execution_count": null,
      "outputs": []
    },
    {
      "cell_type": "code",
      "source": [
        "# Draw a line with (x, y) points (1)\n",
        "plt.plot([1, 2, 4, 8, 16], [0, 1, 2, 3, 4]) # ([x1, x2, ..., xn], [y1, y2, ..., yn])"
      ],
      "metadata": {
        "id": "oEZrjwCx1kkC"
      },
      "execution_count": null,
      "outputs": []
    },
    {
      "cell_type": "code",
      "source": [
        "# Draw a line with (x, y) points (2): Symbol\n",
        "plt.plot([1, 2, 4, 8, 16], [0, 1, 2, 3, 4], 'ro') # Round symbol\n",
        "plt.axis([0, 20, 0, 5]) # x-axis range of [0, 20], y-axis range of [0, 5]\n",
        "plt.show()"
      ],
      "metadata": {
        "id": "IY68wtB-2pd3"
      },
      "execution_count": null,
      "outputs": []
    },
    {
      "cell_type": "code",
      "source": [
        "# Draw a line with (x, y) points (3): Multiple symbols\n",
        "# Create an interval array\n",
        "t = np.arange(0., 5., 0.2) # Evenly sampled time at 200ms intervals\n",
        "\n",
        "# Compare x, x^2, x^3\n",
        "plt.plot(t, t, 'r--', t, t**2, 'bs', t, t**3, 'g^') # Red dashes, blue squares, and green triangles\n",
        "plt.show()"
      ],
      "metadata": {
        "id": "JhCBKfKP35w-"
      },
      "execution_count": null,
      "outputs": []
    },
    {
      "cell_type": "code",
      "source": [
        "# Draw a line with (x, y) points (4): Symbol sizes, colors, and axis names\n",
        "# Create a DataFrame\n",
        "np.random.seed(20230202) # Seed the random number generator\n",
        "data = {'x': np.arange(50),\n",
        "        'z1': np.random.randn(50),\n",
        "        'z2': np.random.randint(0, 50, 50)}\n",
        "data['y'] = data['x'] + 10 * np.random.randn(50)\n",
        "data['z1'] = np.abs(data['z1']) * 100\n",
        "\n",
        "# Scatter plot with heterogenous marker sizes and colors\n",
        "plt.scatter('x', 'y', s='z1', c='z2', data=data) # s for size, c for color\n",
        "plt.xlabel('X-axis') # X-axis name\n",
        "plt.ylabel('Y-axis') # Y-axis name\n",
        "plt.show()"
      ],
      "metadata": {
        "id": "Y9BSdW1E5nSv"
      },
      "execution_count": null,
      "outputs": []
    },
    {
      "cell_type": "code",
      "source": [
        "# Draw a line with (x, y) points (5): Figure Title and Legends\n",
        "# Create an array of x-axis\n",
        "x = np.linspace(0, 2, 100)\n",
        "\n",
        "# Define plots\n",
        "plt.plot(x, x, label='Linear') # Line label\n",
        "plt.plot(x, x**2, label='Quadratic')\n",
        "plt.plot(x, x**3, label='Cubic')\n",
        "plt.xlabel('X-axis')\n",
        "plt.ylabel('Y-axis')\n",
        "plt.title(\"Polynomial Functions\") # Figure title\n",
        "plt.legend(); # Legends"
      ],
      "metadata": {
        "id": "X1t3YVbS9O8V"
      },
      "execution_count": null,
      "outputs": []
    },
    {
      "cell_type": "markdown",
      "source": [
        "**B. `pyplot.subplots`-style Expression**\n",
        "\n",
        "`matplotlib` graphs your data on `Figures` (e.g., windows, Jupyter widgets, etc.), each of which can contain one or more `Axes`, an area where points can be specified in terms of x-y coordinates (or theta-r in a polar plot, x-y-z in a 3D plot, etc). The simplest way of creating a Figure with an Axes is using `pyplot.subplots`. We can then use `Axes.plot` to draw some data on the Axes."
      ],
      "metadata": {
        "id": "VkJTXzYnBaYE"
      }
    },
    {
      "cell_type": "code",
      "source": [
        "# How to define the whole figure\n",
        "fig = plt.figure()  # An empty figure with no Axes\n",
        "fig, ax = plt.subplots()  # A figure with a single Axes\n",
        "fig, axs = plt.subplots(2, 2)  # A figure with a 2x2 grid of Axes"
      ],
      "metadata": {
        "id": "GBw1QbwEDVfV"
      },
      "execution_count": null,
      "outputs": []
    },
    {
      "cell_type": "code",
      "source": [
        "# Draw a line with (x, y) points (1)\n",
        "fig, ax = plt.subplots() # Create a figure containing a single axis\n",
        "ax.plot([1, 2, 4, 8, 16], [0, 1, 2, 3, 4]) # ([x1, x2, ..., xn], [y1, y2, ..., yn])"
      ],
      "metadata": {
        "id": "ui53BO2L_vC_"
      },
      "execution_count": null,
      "outputs": []
    },
    {
      "cell_type": "code",
      "source": [
        "# Draw a line with (x, y) points (4): Symbol sizes, colors, and axis names\n",
        "# Create a DataFrame\n",
        "np.random.seed(20240201) # Seed the random number generator\n",
        "data = {'x': np.arange(50),\n",
        "        'z1': np.random.randn(50),\n",
        "        'z2': np.random.randint(0, 50, 50)}\n",
        "data['y'] = data['x'] + 10 * np.random.randn(50)\n",
        "data['z1'] = np.abs(data['z1']) * 100\n",
        "\n",
        "# Scatter plot with heterogenous marker sizes and colors\n",
        "fig, ax = plt.subplots()\n",
        "ax.scatter('x', 'y', s='z1', c='z2', data=data) # s for size, c for color (same but from 'plt' to 'ax')\n",
        "ax.set_xlabel('X-axis') # X-axis name (from .xlabel to .set_xlabel)\n",
        "ax.set_ylabel('Y-axis') # Y-axis name (from .ylabel to .set_ylabel)"
      ],
      "metadata": {
        "id": "8F9gscawD-I4"
      },
      "execution_count": null,
      "outputs": []
    },
    {
      "cell_type": "code",
      "source": [
        "# Draw a line with (x, y) points (5): Figure Title and Legends\n",
        "# Create an array of x-axis\n",
        "x = np.linspace(0, 2, 100)\n",
        "\n",
        "# Define plots\n",
        "fig, ax = plt.subplots()\n",
        "ax.plot(x, x, label='Linear') # Line label\n",
        "ax.plot(x, x**2, label='Quadratic')\n",
        "ax.plot(x, x**3, label='Cubic')\n",
        "ax.set_xlabel('X-axis')\n",
        "ax.set_ylabel('Y-axis')\n",
        "ax.set_title(\"Polynomial Functions\") # Figure title (from .title to .set_title)\n",
        "ax.legend(); # Legends (no change)"
      ],
      "metadata": {
        "id": "FcQ4u8ycFnBK"
      },
      "execution_count": null,
      "outputs": []
    },
    {
      "cell_type": "markdown",
      "source": [
        "**Exercise 1. Convert the following code from `pyplot`-style to `pyplot.subplots`-style.**\n",
        "\n",
        "```\n",
        "t = np.arange(0.0, 5.0, 0.1)\n",
        "\n",
        "plt.figure()\n",
        "plt.plot(t, np.cos(2*np.pi*t), 'r--')\n",
        "plt.xlabel('t')\n",
        "plt.ylabel('Cos(2πt)')\n",
        "plt.title(\"Cosine Function\")\n",
        "plt.show()\n",
        "```"
      ],
      "metadata": {
        "id": "DtFm8XOaHGye"
      }
    },
    {
      "cell_type": "code",
      "source": [
        "# Revise the code style\n",
        "t = np.arange(0.0, 5.0, 0.1)\n",
        "\n",
        "fig, ax = plt.subplots()\n",
        "ax.set_xlabel('t')\n",
        "ax.set_('')\n",
        "ax.(\"Cosine Function\")\n",
        "ax.(, , 'r--')"
      ],
      "metadata": {
        "id": "HrWwREC1ICTN"
      },
      "execution_count": null,
      "outputs": []
    },
    {
      "cell_type": "markdown",
      "source": [
        "**1.1.2. Basic Plots**\n",
        "\n",
        "More examples are available at the [Matplotlib Plot Types](https://matplotlib.org/stable/plot_types/index.html)."
      ],
      "metadata": {
        "id": "W6w8ubfItZUj"
      }
    },
    {
      "cell_type": "markdown",
      "source": [
        "**A. Basic Plot Types**"
      ],
      "metadata": {
        "id": "_vK8ElmS45K5"
      }
    },
    {
      "cell_type": "code",
      "source": [
        "# List all vailable plot styles\n",
        "print(plt.style.available)"
      ],
      "metadata": {
        "id": "EOxgXhJ0KyqX"
      },
      "execution_count": null,
      "outputs": []
    },
    {
      "cell_type": "code",
      "source": [
        "# Choose your style\n",
        "plt.style.use('default')"
      ],
      "metadata": {
        "id": "LhT61IvSQJ0P"
      },
      "execution_count": null,
      "outputs": []
    },
    {
      "cell_type": "code",
      "source": [
        "# (1) plot(x, y)\n",
        "# Generate data\n",
        "plt.style.use('fivethirtyeight')\n",
        "x = np.linspace(0, 10, 100)\n",
        "y = 4 + 2 * np.sin(2 * x)\n",
        "\n",
        "# Plot\n",
        "fig, ax = plt.subplots()\n",
        "ax.plot(x, y, linewidth=2.0)\n",
        "ax.set(xlim=(0, 8), xticks=np.arange(1, 8), # Set ticks on the x-axis\n",
        "       ylim=(0, 8), yticks=np.arange(1, 8)) # Set ticks on the y-axis\n",
        "plt.show()"
      ],
      "metadata": {
        "id": "RR9e7JuAJ6zn"
      },
      "execution_count": null,
      "outputs": []
    },
    {
      "cell_type": "code",
      "source": [
        "# (2) scatter(x, y)\n",
        "plt.style.use('seaborn-v0_8-pastel') # Choose your style\n",
        "\n",
        "# Generate data\n",
        "np.random.seed(3)\n",
        "x = 4 + np.random.normal(0, 2, 24)\n",
        "y = 4 + np.random.normal(0, 2, len(x))\n",
        "\n",
        "# Size and color\n",
        "sizes = np.random.uniform(15, 80, len(x))\n",
        "colors = np.random.uniform(15, 80, len(x))\n",
        "\n",
        "# Plot\n",
        "fig, ax = plt.subplots()\n",
        "ax.scatter(x, y, s=sizes, c=colors, vmin=0, vmax=100)\n",
        "ax.set(xlim=(0, 8), xticks=np.arange(1, 8),\n",
        "       ylim=(0, 8), yticks=np.arange(1, 8))\n",
        "plt.show()"
      ],
      "metadata": {
        "id": "Of0_0YBfu6Qq"
      },
      "execution_count": null,
      "outputs": []
    },
    {
      "cell_type": "code",
      "source": [
        "# (3) bar(x, height)\n",
        "plt.style.use('classic') # Choose your style\n",
        "\n",
        "# Generate data\n",
        "x = 0.5 + np.arange(8)\n",
        "y = np.random.uniform(2, 7, len(x))\n",
        "\n",
        "# Plot\n",
        "fig, ax = plt.subplots()\n",
        "ax.bar(x, y, width=1, edgecolor=\"white\", linewidth=0.7)\n",
        "ax.set(xlim=(0, 8), xticks=np.arange(1, 8),\n",
        "       ylim=(0, 8), yticks=np.arange(1, 8))\n",
        "plt.show()"
      ],
      "metadata": {
        "id": "oJMe2Gn9u8q5"
      },
      "execution_count": null,
      "outputs": []
    },
    {
      "cell_type": "code",
      "source": [
        "# step(x, y)\n",
        "plt.style.use('default') # Choose your style\n",
        "\n",
        "# Generate data\n",
        "x = 0.5 + np.arange(8)\n",
        "y = np.random.uniform(2, 7, len(x))\n",
        "\n",
        "# Plot\n",
        "fig, ax = plt.subplots()\n",
        "ax.step(x, y, linewidth=2.5)\n",
        "ax.set(xlim=(0, 8), xticks=np.arange(1, 8),\n",
        "       ylim=(0, 8), yticks=np.arange(1, 8))\n",
        "plt.show()"
      ],
      "metadata": {
        "id": "Wdc-CiWsVDta"
      },
      "execution_count": null,
      "outputs": []
    },
    {
      "cell_type": "code",
      "source": [
        "# fill_between(x, y1, y2)\n",
        "plt.style.use('default') # Choose your style\n",
        "\n",
        "# Generate data\n",
        "x = np.linspace(0, 8, 16)\n",
        "y1 = 3 + 4*x/8 + np.random.uniform(0.0, 0.5, len(x))\n",
        "y2 = 1 + 2*x/8 + np.random.uniform(0.0, 0.5, len(x))\n",
        "\n",
        "# plot\n",
        "fig, ax = plt.subplots()\n",
        "ax.fill_between(x, y1, y2, alpha=.5, linewidth=0) # Range plot ('alpha' softens colors)\n",
        "ax.plot(x, (y1 + y2)/2, linewidth=2) # Central line ('linewidth' determines line thickness)\n",
        "ax.set(xlim=(0, 8), xticks=np.arange(1, 8),\n",
        "       ylim=(0, 8), yticks=np.arange(1, 8))\n",
        "plt.show()"
      ],
      "metadata": {
        "id": "B99MHaHswOFi"
      },
      "execution_count": null,
      "outputs": []
    },
    {
      "cell_type": "code",
      "source": [
        "# stackplot(x, y)\n",
        "plt.style.use('default') # Choose your style\n",
        "\n",
        "# Generate data\n",
        "x = np.arange(0, 10, 2)\n",
        "ay = [1, 1.25, 2, 2.75, 3]\n",
        "by = [1, 1, 1, 1, 1]\n",
        "cy = [2, 1, 2, 1, 2]\n",
        "y = np.vstack([ay, by, cy])\n",
        "\n",
        "# Plot\n",
        "fig, ax = plt.subplots()\n",
        "ax.stackplot(x, y, labels=['Ay', 'By', 'Cy'])\n",
        "ax.legend(loc='upper left')\n",
        "ax.set(xlim=(0, 8), xticks=np.arange(1, 8),\n",
        "       ylim=(0, 8), yticks=np.arange(1, 8))\n",
        "plt.show()"
      ],
      "metadata": {
        "id": "9iP-6KidwRhv"
      },
      "execution_count": null,
      "outputs": []
    },
    {
      "cell_type": "code",
      "source": [
        "# Separate stackplots\n",
        "fig, ax = plt.subplots()\n",
        "ax.stackplot(x, ay, labels=[\"Ay\"], alpha=0.3)\n",
        "ax.stackplot(x, by, labels=[\"By\"], alpha=0.3)\n",
        "ax.stackplot(x, cy, labels=[\"Cy\"], alpha=0.3)\n",
        "ax.legend(loc='upper left')\n",
        "ax.set(xlim=(0, 8), xticks=np.arange(1, 8),\n",
        "       ylim=(0, 8), yticks=np.arange(1, 8))\n",
        "plt.show()"
      ],
      "metadata": {
        "id": "85zmX6jeuoQ_"
      },
      "execution_count": null,
      "outputs": []
    },
    {
      "cell_type": "markdown",
      "source": [
        "**Exercise 2. Draw a scatter plot by revising the following code to meet these criteria:**\n",
        "1.  Generate variables `x` and `y` that are independently drawn from $U[0,1]$.\n",
        "1.  Draw a scatter plot of `x` and `y` with 'area' as size, 'colors' as size, and alpha of 0.4 using a `subplots()`-style code.\n",
        "1.  Set the x-axis name as 'Mathematics Score' and the y-axis name as 'Programming Score'.\n",
        "\n",
        "```Python\n",
        "# Generate Data\n",
        "x =  # (1) Generate random numbers between 0 and 100\n",
        "y =  # (1) Generate random numbers between 0 and 100\n",
        "z = np.random.uniform(0, 1, 100) # 3rd dimension\n",
        "area = (20 * np.random.rand(100)) ** 2 # 0 to 15 point radii\n",
        "colors = z # 3rd dimension\n",
        "\n",
        "# Plot\n",
        "fig, ax = plt.subplots()\n",
        "ex2 = ax.  # (2) 'ex2' is a scatter plot with 'area' as size, 'colors' as size, and alpha of 0.4\n",
        "ax.  # (3) Set the x-axis name as 'Mathematics Score'\n",
        "ax.  # (3) Set the y-axis name as 'Programming Score'\n",
        "cbar = plt.colorbar(ex2) # Colorbar for the third dimension\n",
        "cbar.set_label('Language Score') # Colorbar's name is 'Language Score'\n",
        "plt.show()\n",
        "```\n",
        "\n"
      ],
      "metadata": {
        "id": "8Q2iNdtngI1V"
      }
    },
    {
      "cell_type": "code",
      "source": [
        "# Generate Data\n",
        "x =  # (1) Generate random numbers between 0 and 100\n",
        "y =  # (1) Generate random numbers between 0 and 100\n",
        "z = np.random.uniform(0, 1, 100) # 3rd dimension\n",
        "area = (20 * np.random.rand(100)) ** 2 # 0 to 15 point radii\n",
        "colors = z # 3rd dimension\n",
        "\n",
        "# Plot\n",
        "fig, ax = plt.subplots()\n",
        "ex2 = ax.  # (2) 'ex2' is a scatter plot with 'area' as size, 'colors' as size, and alpha of 0.4\n",
        "ax.  # (3) Set the x-axis name as 'Mathematics Score'\n",
        "ax.  # (3) Set the y-axis name as 'Programming Score'\n",
        "cbar = plt.colorbar(ex2) # Colorbar for the third dimension\n",
        "cbar.set_label('Language Score') # Colorbar's name is 'Language Score'\n",
        "plt.show()"
      ],
      "metadata": {
        "id": "bwbjnsS7gSej"
      },
      "execution_count": null,
      "outputs": []
    },
    {
      "cell_type": "markdown",
      "source": [
        "**B. Statistics Plots**"
      ],
      "metadata": {
        "id": "ZKGxdi9K4vjR"
      }
    },
    {
      "cell_type": "code",
      "source": [
        "# List all vailable plot styles\n",
        "print(plt.style.available)"
      ],
      "metadata": {
        "id": "cD1l3pL0ynKW"
      },
      "execution_count": null,
      "outputs": []
    },
    {
      "cell_type": "code",
      "source": [
        "# hist(x)\n",
        "plt.style.use('default') # Choose your style\n",
        "\n",
        "# Generate data\n",
        "x = 4 + np.random.normal(0, 1.5, 200)\n",
        "\n",
        "# Plot:\n",
        "fig, ax = plt.subplots()\n",
        "ax.hist(x, bins=12, linewidth=0.5, edgecolor=\"white\")\n",
        "ax.set(xlim=(-4, 12), xticks=np.arange(-3, 12),\n",
        "       ylim=(0, 50), yticks=np.linspace(0, 50, 11))\n",
        "plt.show()"
      ],
      "metadata": {
        "id": "-2mHyKkvw8Lx"
      },
      "execution_count": null,
      "outputs": []
    },
    {
      "cell_type": "markdown",
      "source": [
        "**Anatomy of Boxplot**\n",
        "\n",
        "![image](https://builtin.com/sites/www.builtin.com/files/styles/ckeditor_optimize/public/inline-images/1_boxplots.jpg)"
      ],
      "metadata": {
        "id": "CsbifcebrxXC"
      }
    },
    {
      "cell_type": "code",
      "source": [
        "# boxplot(X)\n",
        "plt.style.use('default') # Choose your style\n",
        "\n",
        "# Generate data\n",
        "D = np.random.normal((3, 5, 4), (1.25, 1.00, 1.25), (100, 3))\n",
        "\n",
        "# Plot\n",
        "fig, ax = plt.subplots()\n",
        "VP = ax.boxplot(D, positions=[2, 4, 6], widths=1.5, patch_artist=True,\n",
        "                showmeans=False, showfliers=False,\n",
        "                medianprops={\"color\": \"white\", \"linewidth\": 0.5},\n",
        "                boxprops={\"facecolor\": \"C0\", \"edgecolor\": \"white\",\n",
        "                          \"linewidth\": 0.5},\n",
        "                whiskerprops={\"color\": \"C0\", \"linewidth\": 1.5},\n",
        "                capprops={\"color\": \"C0\", \"linewidth\": 1.5})\n",
        "plt.show()"
      ],
      "metadata": {
        "id": "cFEioxJUw9wM"
      },
      "execution_count": null,
      "outputs": []
    },
    {
      "cell_type": "code",
      "source": [
        "# errorbar(x, y, yerr, xerr)\n",
        "plt.style.use('default') # Choose your style\n",
        "\n",
        "# Generate data\n",
        "x = [2, 4, 6]\n",
        "y = [3.6, 5, 4.2]\n",
        "yerr = [0.9, 1.2, 0.5]\n",
        "\n",
        "# Plot\n",
        "fig, ax = plt.subplots()\n",
        "ax.errorbar(x, y, yerr, fmt='o', linewidth=2, capsize=6) # 'fmt'='o' removes a data line\n",
        "ax.set(xlim=(0, 8), xticks=np.arange(1, 8),\n",
        "       ylim=(0, 8), yticks=np.arange(1, 8))\n",
        "plt.show()"
      ],
      "metadata": {
        "id": "lRkwfTv3xAmj"
      },
      "execution_count": null,
      "outputs": []
    },
    {
      "cell_type": "code",
      "source": [
        "# violinplot(D)\n",
        "plt.style.use('fivethirtyeight') # Choose your style\n",
        "\n",
        "# Generate data\n",
        "np.random.seed(100) # Seed the random number generator if you want\n",
        "D = np.random.normal((3, 5, 4), (0.75, 1.00, 0.75), (500, 3))\n",
        "\n",
        "# Plot\n",
        "fig, ax = plt.subplots()\n",
        "vp = ax.violinplot(D, [2, 4, 6], widths=2,\n",
        "                   showmeans=False, showmedians=False, showextrema=False)\n",
        "\n",
        "# Styling\n",
        "for body in vp['bodies']:\n",
        "    body.set_alpha(0.9)\n",
        "ax.set(xlim=(0, 8), xticks=np.arange(1, 8),\n",
        "       ylim=(0, 8), yticks=np.arange(1, 8))\n",
        "plt.show()"
      ],
      "metadata": {
        "id": "Ygxc7hxgxDNp"
      },
      "execution_count": null,
      "outputs": []
    },
    {
      "cell_type": "code",
      "source": [
        "# eventplot(D)\n",
        "plt.style.use('default') # Choose your style\n",
        "\n",
        "# Generate data\n",
        "x = [2, 4, 6]\n",
        "D = np.random.gamma(4, size=(3, 50))\n",
        "\n",
        "# Plot\n",
        "fig, ax = plt.subplots()\n",
        "ax.eventplot(D, orientation=\"vertical\", lineoffsets=x, linewidth=0.75) # Horizontal also works\n",
        "ax.set(xlim=(0, 8), xticks=np.arange(1, 8),\n",
        "       ylim=(0, 8), yticks=np.arange(1, 8))\n",
        "plt.show()"
      ],
      "metadata": {
        "id": "1U-TMMHlx5eG"
      },
      "execution_count": null,
      "outputs": []
    },
    {
      "cell_type": "code",
      "source": [
        "# hist2d(x, y)\n",
        "plt.style.use('default') # Choose your style\n",
        "\n",
        "# Generate data\n",
        "np.random.seed(20230202) # Keep the seed to compare it with hexbin(x, y)\n",
        "x = np.random.randn(5000)\n",
        "y = 1.2 * x + np.random.randn(5000) / 3\n",
        "\n",
        "# Plot\n",
        "fig, ax = plt.subplots()\n",
        "ax.hist2d(x, y, bins=(np.arange(-3, 3, 0.1), np.arange(-3, 3, 0.1)))\n",
        "ax.set(xlim=(-2, 2), ylim=(-3, 3))\n",
        "plt.show()"
      ],
      "metadata": {
        "id": "C5wt7nqOxF2G"
      },
      "execution_count": null,
      "outputs": []
    },
    {
      "cell_type": "code",
      "source": [
        "# hexbin(x, y, C)\n",
        "plt.style.use('default') # Choose your style\n",
        "\n",
        "# Generate data\n",
        "np.random.seed(20230202) # Keep the seed to compare it with hist2d(x, y)\n",
        "x = np.random.randn(5000)\n",
        "y = 1.2 * x + np.random.randn(5000) / 3\n",
        "\n",
        "# Plot\n",
        "fig, ax = plt.subplots()\n",
        "ax.hexbin(x, y, gridsize=30) # The larger gridsize, the smaller each hexagon\n",
        "ax.set(xlim=(-2, 2), ylim=(-3, 3))\n",
        "plt.show()"
      ],
      "metadata": {
        "id": "_WBAE-4Bx9Dj"
      },
      "execution_count": null,
      "outputs": []
    },
    {
      "cell_type": "code",
      "source": [
        "# pie(x)\n",
        "plt.style.use('default') # Choose your style\n",
        "\n",
        "# Generate data\n",
        "x = [1, 2, 3, 4]\n",
        "colors = plt.get_cmap('Reds')(np.linspace(0.2, 0.7, len(x))) # Try 'Blues', 'Greens', and many others with 'plt.get_cmap'\n",
        "\n",
        "# Plot\n",
        "fig, ax = plt.subplots()\n",
        "ax.pie(x, colors=colors, radius=3, center=(4, 4),\n",
        "       wedgeprops={\"linewidth\": 1, \"edgecolor\": \"white\"}, frame=True)\n",
        "ax.set(xlim=(0, 8), xticks=np.arange(1, 8),\n",
        "       ylim=(0, 8), yticks=np.arange(1, 8))\n",
        "plt.show()"
      ],
      "metadata": {
        "id": "T21TxCZtx_zX"
      },
      "execution_count": null,
      "outputs": []
    },
    {
      "cell_type": "markdown",
      "source": [
        "**Exercise 3. DataFrame and Plotting**\n",
        "\n",
        "Draw a hexagonal binned plot for the given dataset. In doing so, revise the following code to meet these criteria:\n",
        "\n",
        "1. Set the seed of 6901.\n",
        "1. Set the grindsize 40.\n",
        "1. Set the range of axes as (-3, 3) for both 'x' and 'y'.\n",
        "\n",
        "```Python\n",
        "# Generate data\n",
        " # (1) Set the seed of 6901\n",
        "x = np.random.randn(3000)\n",
        "y = np.random.randn(3000) - x\n",
        "\n",
        "# Plot\n",
        "fig, ax = plt.subplots()\n",
        "ax. # (2) Define a hexagonal binned plot with the grindsize 40\n",
        "ax. # (3) Set the range of axes as (-3, 3) for both 'x' and 'y'\n",
        "plt.show()\n",
        "```"
      ],
      "metadata": {
        "id": "p_qoS2JHtrQi"
      }
    },
    {
      "cell_type": "code",
      "source": [
        "# Generate data\n",
        " # (1) Set the seed of 6901\n",
        "x = np.random.randn(3000)\n",
        "y = np.random.randn(3000) - x\n",
        "\n",
        "# Plot\n",
        "fig, ax = plt.subplots()\n",
        "ax. # (2) Define a hexagonal binned plot with the grindsize 40\n",
        "ax. # (3) Set the range of axes as (-3, 3) for both 'x' and 'y'\n",
        "plt.show()"
      ],
      "metadata": {
        "id": "eeJXiO_jyIxI"
      },
      "execution_count": null,
      "outputs": []
    },
    {
      "cell_type": "markdown",
      "source": [
        "**C. 3D Plots**"
      ],
      "metadata": {
        "id": "eKvc9K-c4rxS"
      }
    },
    {
      "cell_type": "code",
      "source": [
        "# 3D scatterplot\n",
        "plt.style.use('default') # Choose your style\n",
        "\n",
        "# Generate data\n",
        "n = 100 # Set the number of observations\n",
        "xs = np.random.uniform(23, 32, n)\n",
        "ys = np.random.uniform(0, 100, n)\n",
        "zs = np.random.uniform(-50, -25, n)\n",
        "\n",
        "# Plot\n",
        "fig, ax = plt.subplots(subplot_kw={\"projection\": \"3d\"}) # 'add_subplot' with projection='3d'\n",
        "ax.scatter(xs, ys, zs)\n",
        "ax.set(xticklabels=[],\n",
        "       yticklabels=[],\n",
        "       zticklabels=[])\n",
        "plt.show()"
      ],
      "metadata": {
        "id": "o6cTJntDyE3P"
      },
      "execution_count": null,
      "outputs": []
    },
    {
      "cell_type": "code",
      "source": [
        "# 3D surface\n",
        "from matplotlib import cm # Colormap\n",
        "plt.style.use('default') # Choose your style\n",
        "\n",
        "# Generate data\n",
        "X = np.arange(-5, 5, 0.25)\n",
        "Y = np.arange(-5, 5, 0.25)\n",
        "X, Y = np.meshgrid(X, Y)\n",
        "R = np.sqrt(X**2 + Y**2)\n",
        "Z = np.sin(R)\n",
        "\n",
        "# Plot the surface\n",
        "fig, ax = plt.subplots(subplot_kw={\"projection\": \"3d\"})\n",
        "ax.plot_surface(X, Y, Z, vmin=Z.min() * 2, cmap=cm.Oranges) # Colormap from 'cm'\n",
        "ax.set(xticklabels=[],\n",
        "       yticklabels=[],\n",
        "       zticklabels=[])\n",
        "plt.show()"
      ],
      "metadata": {
        "id": "TRmpt75-yIY9"
      },
      "execution_count": null,
      "outputs": []
    },
    {
      "cell_type": "markdown",
      "source": [
        "**1.2. Advanced Plots in `matplotlib`**\n",
        "\n",
        "More examples are available at the [Matplotlib Gallary](https://matplotlib.org/stable/gallery/index.html)."
      ],
      "metadata": {
        "id": "ppkBojwGHv3E"
      }
    },
    {
      "cell_type": "code",
      "source": [
        "# Scatter plot design (1): Legends\n",
        "np.random.seed(20230202)\n",
        "\n",
        "fig, ax = plt.subplots()\n",
        "for color in ['tab:blue', 'tab:orange', 'tab:green']: # Repeat subplots by color\n",
        "    n = 750\n",
        "    x, y = np.random.rand(2, n)\n",
        "    scale = 200.0 * np.random.rand(n)\n",
        "    ax.scatter(x, y, c=color, s=scale, label=color,\n",
        "               alpha=0.3, edgecolors='none')\n",
        "ax.legend()\n",
        "ax.grid(True)\n",
        "plt.show()"
      ],
      "metadata": {
        "id": "R9_NxvjQHFgl"
      },
      "execution_count": null,
      "outputs": []
    },
    {
      "cell_type": "code",
      "source": [
        "# Scatter plot design (2): Custom symbols\n",
        "np.random.seed(20230202)\n",
        "\n",
        "# Generating Data\n",
        "x = np.arange(0.0, 50.0, 2.0)\n",
        "y = x ** 1.3 + np.random.rand(*x.shape) * 30.0\n",
        "sizes = np.random.rand(*x.shape) * 800 + 500\n",
        "\n",
        "# Try various markers\n",
        "markers = ['\\\\alpha', '\\\\beta', '\\gamma', '\\sigma','\\infty', \\\n",
        "            '\\spadesuit', '\\heartsuit', '\\diamondsuit', '\\clubsuit', \\\n",
        "            '\\\\bigodot', '\\\\bigotimes', '\\\\bigoplus', '\\imath', '\\\\bowtie', \\\n",
        "            '\\\\bigtriangleup', '\\\\bigtriangledown', '\\oslash' \\\n",
        "           '\\ast', '\\\\times', '\\circ', '\\\\bullet', '\\star', '+', \\\n",
        "            '\\Theta', '\\Xi', '\\Phi', \\\n",
        "            '\\$', '\\#', '\\%', '\\S']\n",
        "\n",
        "# Plot\n",
        "fig, ax = plt.subplots()\n",
        "ax.scatter(x, y, sizes, c=\"green\", alpha=0.5, marker=r'$\\clubsuit$', # Marker here\n",
        "           label=\"Luck\")\n",
        "ax.set_xlabel(\"Leprechauns\")\n",
        "ax.set_ylabel(\"Gold\")\n",
        "ax.legend()\n",
        "plt.show()"
      ],
      "metadata": {
        "id": "WVjE0RXBIACi"
      },
      "execution_count": null,
      "outputs": []
    },
    {
      "cell_type": "code",
      "source": [
        "# Scatter plot design (3): Adding histograms\n",
        "np.random.seed(20240201)\n",
        "\n",
        "# some random data\n",
        "x = np.random.randn(1000)\n",
        "y = np.random.randn(1000)\n",
        "\n",
        "def scatter_hist(x, y, ax, ax_histx, ax_histy):\n",
        "    # no labels\n",
        "    ax_histx.tick_params(axis=\"x\", labelbottom=False)\n",
        "    ax_histy.tick_params(axis=\"y\", labelleft=False)\n",
        "\n",
        "    # the scatter plot:\n",
        "    ax.scatter(x, y)\n",
        "\n",
        "    # now determine nice limits by hand:\n",
        "    binwidth = 0.25\n",
        "    xymax = max(np.max(np.abs(x)), np.max(np.abs(y)))\n",
        "    lim = (int(xymax/binwidth) + 1) * binwidth\n",
        "\n",
        "    bins = np.arange(-lim, lim + binwidth, binwidth)\n",
        "    ax_histx.hist(x, bins=bins)\n",
        "    ax_histy.hist(y, bins=bins, orientation='horizontal')\n",
        "\n",
        "# Start with a square Figure\n",
        "fig = plt.figure(figsize=(6, 6))\n",
        "# Add a gridspec with two rows and two columns and a ratio of 1 to 4 between the size of the marginal axes and the main axes in both directions\n",
        "# Also adjust the subplot parameters for a square plot\n",
        "gs = fig.add_gridspec(2, 2,  width_ratios=(4, 1), height_ratios=(1, 4),\n",
        "                      left=0.1, right=0.9, bottom=0.1, top=0.9,\n",
        "                      wspace=0.05, hspace=0.05)\n",
        "\n",
        "# Create the Axes\n",
        "ax = fig.add_subplot(gs[1, 0])\n",
        "ax_histx = fig.add_subplot(gs[0, 0], sharex=ax)\n",
        "ax_histy = fig.add_subplot(gs[1, 1], sharey=ax)\n",
        "\n",
        "# Draw the scatter plot and marginals.\n",
        "scatter_hist(x, y, ax, ax_histx, ax_histy)"
      ],
      "metadata": {
        "id": "Xc51oE4xJeoS"
      },
      "execution_count": null,
      "outputs": []
    },
    {
      "cell_type": "code",
      "source": [
        "# Bar chart design (1): Category and Colors\n",
        "plt.style.use('default') # Choose your style\n",
        "\n",
        "# Generate data\n",
        "fruits = ['apple', 'blueberry', 'cherry', 'orange'] # Bar chart by category\n",
        "counts = [40, 100, 30, 55]\n",
        "\n",
        "# Plot\n",
        "fig, ax = plt.subplots()\n",
        "bar_colors = ['tab:red', 'tab:blue', 'tab:red', 'tab:orange'] # Bar colors\n",
        "ax.bar(fruits, counts, color=bar_colors) # 'color' option\n",
        "ax.set_ylabel('Fruit supply')\n",
        "ax.set_title('Fruit supply by kind and color')\n",
        "plt.show()"
      ],
      "metadata": {
        "id": "0nojACL2FZRN"
      },
      "execution_count": null,
      "outputs": []
    },
    {
      "cell_type": "code",
      "source": [
        "# Bar chart design (2): Stacked bar chart with error bars\n",
        "plt.style.use('default') # Choose your style\n",
        "\n",
        "# Generate data\n",
        "labels = ['G1', 'G2', 'G3', 'G4', 'G5'] # Set the labels or categories\n",
        "men_means = [20, 35, 30, 35, 27]\n",
        "women_means = [25, 32, 34, 20, 25]\n",
        "men_std = [2, 3, 4, 1, 2] # Set the error bar size: technically different from standard errors\n",
        "women_std = [3, 5, 2, 3, 3]\n",
        "width = 0.35  # The width of the bars: can also be len(x) sequence\n",
        "\n",
        "# Plot\n",
        "fig, ax = plt.subplots()\n",
        "ax.bar(labels, men_means, width, yerr=men_std, label='Men') # Men's bar chart: 'yerr' comes again for error bars\n",
        "ax.bar(labels, women_means, width, yerr=women_std, bottom=men_means,\n",
        "       label='Women') # Women's bar chart: 'bottom'=men_means as the starting point\n",
        "ax.set_ylabel('Scores')\n",
        "ax.set_title('Scores by group and gender')\n",
        "ax.legend() # Show the legends\n",
        "plt.show()"
      ],
      "metadata": {
        "id": "3uLdiFoD-qhF"
      },
      "execution_count": null,
      "outputs": []
    },
    {
      "cell_type": "code",
      "source": [
        "# Line chart with subplots (1): Two lines with error bars\n",
        "plt.style.use('default') # Choose your style\n",
        "\n",
        "# Generate data\n",
        "x = np.arange(0.1, 4, 0.1)\n",
        "y1 = np.exp(-1.0 * x)\n",
        "y2 = np.exp(-0.5 * x)\n",
        "\n",
        "# Example variable error bar values\n",
        "y1err = 0.1 + 0.1 * np.sqrt(x)\n",
        "y2err = 0.1 + 0.1 * np.sqrt(x/2)\n",
        "\n",
        "# Define multiple axes\n",
        "fig, (ax0, ax1, ax2) = plt.subplots(nrows=1, ncols=3, sharex=True, figsize=(12, 6)) # 1 row, 3 columns\n",
        "\n",
        "ax0.set_title('all errorbars')\n",
        "ax0.errorbar(x, y1, yerr=y1err)\n",
        "ax0.errorbar(x, y2, yerr=y2err)\n",
        "\n",
        "ax1.set_title('only every 6th errorbar')\n",
        "ax1.errorbar(x, y1, yerr=y1err, errorevery=6) # Error bar every 6 ticks\n",
        "ax1.errorbar(x, y2, yerr=y2err, errorevery=6)\n",
        "\n",
        "ax2.set_title('second series shifted by 3')\n",
        "ax2.errorbar(x, y1, yerr=y1err, errorevery=(0, 6)) # Error bar every 6 ticks starting from 0th\n",
        "ax2.errorbar(x, y2, yerr=y2err, errorevery=(3, 6)) # Error bar every 6 ticks starting from 3rd\n",
        "\n",
        "fig.suptitle('Errorbar subsampling')\n",
        "plt.show()"
      ],
      "metadata": {
        "id": "7LmyeDeFG5Ks"
      },
      "execution_count": null,
      "outputs": []
    },
    {
      "cell_type": "code",
      "source": [
        "# Line chart with subplots (2): Coherence of two signals\n",
        "plt.style.use('default') # Choose your style\n",
        "np.random.seed(20240201)\n",
        "\n",
        "# Generate data\n",
        "dt = 0.01\n",
        "t = np.arange(0, 30, dt)\n",
        "nse1 = np.random.randn(len(t)) # White noise 1\n",
        "nse2 = np.random.randn(len(t)) # White noise 2\n",
        "\n",
        "# Two signals with a coherent part at 10 Hz and a random part\n",
        "s1 = np.sin(2 * np.pi * 10 * t) + nse1\n",
        "s2 = np.sin(2 * np.pi * 10 * t) + nse2\n",
        "\n",
        "# Plot\n",
        "fig, ax = plt.subplots(2, 1) # 2 rows, 1 column (try the opposite!)\n",
        "ax[0].plot(t, s1, t, s2)\n",
        "ax[0].set_xlim(0, 2)\n",
        "ax[0].set_xlabel('Time')\n",
        "ax[0].set_ylabel('s1 and s2')\n",
        "ax[0].grid(True)\n",
        "\n",
        "cxy, f = ax[1].cohere(s1, s2, 256, 1. / dt) #\n",
        "ax[1].set_ylabel('Coherence')\n",
        "\n",
        "fig.tight_layout()\n",
        "plt.show()"
      ],
      "metadata": {
        "id": "Ch6vRBsIz5LS"
      },
      "execution_count": null,
      "outputs": []
    },
    {
      "cell_type": "code",
      "source": [
        "# Line chart with subplots (3): Plots with different scales\n",
        "plt.style.use('default') # Choose your style\n",
        "\n",
        "# Generate data\n",
        "t = np.arange(0.01, 10.0, 0.01)\n",
        "data1 = np.exp(t)\n",
        "data2 = np.sin(2 * np.pi * t)\n",
        "\n",
        "# Plot\n",
        "fig, ax1 = plt.subplots()\n",
        "\n",
        "color = 'tab:red'\n",
        "ax1.set_xlabel('Time (s)')\n",
        "ax1.set_ylabel('exp(time)', color=color)\n",
        "ax1.plot(t, data1, color=color)\n",
        "ax1.tick_params(axis='y', labelcolor=color)\n",
        "\n",
        "ax2 = ax1.twinx()  # Instantiate a second axes that shares the same x-axis\n",
        "\n",
        "color = 'tab:blue'\n",
        "ax2.set_ylabel('sin(time)', color=color)  # Already handled the x-label with ax1\n",
        "ax2.plot(t, data2, color=color)\n",
        "ax2.tick_params(axis='y', labelcolor=color)\n",
        "\n",
        "fig.tight_layout()  # Otherwise the right y-label is slightly clipped\n",
        "plt.show()"
      ],
      "metadata": {
        "id": "2FdHhZGAL3ld"
      },
      "execution_count": null,
      "outputs": []
    },
    {
      "cell_type": "code",
      "source": [
        "# Special functions (1): Colorbars + Subplots\n",
        "fig, axs = plt.subplots(2, 2)\n",
        "cmaps = ['RdBu_r', 'viridis'] # Define colors\n",
        "for col in range(2):\n",
        "    for row in range(2): # 2 x 2 blocks\n",
        "        ax = axs[row, col] # For each block\n",
        "        pcm = ax.pcolormesh(np.random.random((20, 20)) * (col + 1), cmap=cmaps[col]) # Each column will share the same color\n",
        "        fig.colorbar(pcm, ax=ax)"
      ],
      "metadata": {
        "id": "T1JweqvSFng0"
      },
      "execution_count": null,
      "outputs": []
    },
    {
      "cell_type": "code",
      "source": [
        "# Special functions (2): Locating legends\n",
        "fig, axs = plt.subplots(1, 2)\n",
        "\n",
        "x = np.arange(0.0, 2.0, 0.02)\n",
        "y1 = np.sin(2 * np.pi * x)\n",
        "y2 = np.exp(-x)\n",
        "l1, = axs[0].plot(x, y1)\n",
        "l2, = axs[0].plot(x, y2, marker='o')\n",
        "\n",
        "y3 = np.sin(4 * np.pi * x)\n",
        "y4 = np.exp(-2 * x)\n",
        "l3, = axs[1].plot(x, y3, color='tab:green')\n",
        "l4, = axs[1].plot(x, y4, color='tab:red', marker='^')\n",
        "\n",
        "# Valid locations are best, upper right, upper left, lower left, lower right, right, center left, center right, lower center, upper center, center\n",
        "fig.legend((l1, l2), ('Line 1', 'Line 2'), loc='lower center') # Please find the right place!\n",
        "fig.legend((l3, l4), ('Line 3', 'Line 4'), loc='upper right')\n",
        "\n",
        "plt.tight_layout()\n",
        "plt.show()"
      ],
      "metadata": {
        "id": "czgPPGreMy80"
      },
      "execution_count": null,
      "outputs": []
    },
    {
      "cell_type": "code",
      "source": [
        "# Special functions (3): Placing text boxes\n",
        "\n",
        "# Generate data\n",
        "x = 30*np.random.randn(10000)\n",
        "mu = x.mean()\n",
        "median = np.median(x)\n",
        "sigma = x.std()\n",
        "\n",
        "# Plot\n",
        "fig, ax = plt.subplots()\n",
        "ax.hist(x, 50)\n",
        "\n",
        "# Create a text box with summary statistics\n",
        "textstr = '\\n'.join(( # Combine summary statistics with texts\n",
        "    r'$\\mu=%.2f$' % (mu, ),\n",
        "    r'$\\mathrm{median}=%.2f$' % (median, ),\n",
        "    r'$\\sigma=%.2f$' % (sigma, )))\n",
        "props = dict(boxstyle='round', facecolor='wheat', alpha=0.5) # 'matplotlib.patch.Patch' properties for a text box\n",
        "\n",
        "# Place a text box in upper left in axes coords\n",
        "ax.text(0.05, 0.95, textstr, transform=ax.transAxes, fontsize=14,\n",
        "        verticalalignment='top', bbox=props)\n",
        "plt.show()"
      ],
      "metadata": {
        "id": "FqFjiSYiHZWj"
      },
      "execution_count": null,
      "outputs": []
    },
    {
      "cell_type": "markdown",
      "source": [
        "### **Part 2. Visualizing Geospatial Data**\n",
        "We will briefly explore the `plotly` library (https://plotly.com/python/maps/) to visualize data on maps.\n"
      ],
      "metadata": {
        "id": "iH8Ou92IDMk7"
      }
    },
    {
      "cell_type": "markdown",
      "source": [
        "**#1. Mapping Unemployment Rates by U.S. County**"
      ],
      "metadata": {
        "id": "EOYyJDiJFUXw"
      }
    },
    {
      "cell_type": "code",
      "source": [
        "# Read county geospatial information from URL for a JSON file\n",
        "from urllib.request import urlopen\n",
        "import json\n",
        "with urlopen('https://raw.githubusercontent.com/plotly/datasets/master/geojson-counties-fips.json') as response:\n",
        "    counties = json.load(response)"
      ],
      "metadata": {
        "id": "ZnqLbHqKEzPX"
      },
      "execution_count": null,
      "outputs": []
    },
    {
      "cell_type": "code",
      "source": [
        "# Read data from URL\n",
        "df = pd.read_csv(\"https://raw.githubusercontent.com/plotly/datasets/master/fips-unemp-16.csv\", dtype={\"fips\": str})\n",
        "df.head()"
      ],
      "metadata": {
        "id": "-yjMFwNNN2Rb"
      },
      "execution_count": null,
      "outputs": []
    },
    {
      "cell_type": "code",
      "source": [
        "# Use 'plotly' to map unemployment rates by county\n",
        "import plotly.express as px\n",
        "fig = px.choropleth_mapbox(df, geojson=counties, locations='fips', color='unemp',\n",
        "                           color_continuous_scale=\"Viridis\",\n",
        "                           range_color=(0, 12),\n",
        "                           mapbox_style=\"carto-positron\",\n",
        "                           zoom=3, center = {\"lat\": 37.0902, \"lon\": -95.7129},\n",
        "                           opacity=0.5,\n",
        "                           labels={'unemp':'unemployment rate'}\n",
        "                          )\n",
        "fig.update_layout(margin={\"r\":0,\"t\":0,\"l\":0,\"b\":0})\n",
        "fig.show()"
      ],
      "metadata": {
        "id": "Gt4IGSW7N123"
      },
      "execution_count": null,
      "outputs": []
    },
    {
      "cell_type": "markdown",
      "source": [
        "**#2. Bubble Map by Country with Animation**"
      ],
      "metadata": {
        "id": "q3P25_mEFU0F"
      }
    },
    {
      "cell_type": "code",
      "source": [
        "# Import data from 'plotly' library\n",
        "import plotly.express as px\n",
        "df = px.data.gapminder()\n",
        "df.head(10)"
      ],
      "metadata": {
        "id": "umzcu1fcFVCw"
      },
      "execution_count": null,
      "outputs": []
    },
    {
      "cell_type": "code",
      "source": [
        "# Population\n",
        "fig = px.scatter_geo(df, locations=\"iso_alpha\", color=\"continent\",\n",
        "                     hover_name=\"country\", size=\"pop\",\n",
        "                     animation_frame=\"year\",\n",
        "                     projection=\"natural earth\")\n",
        "fig.show()"
      ],
      "metadata": {
        "id": "Hg7oFc1RRrGa"
      },
      "execution_count": null,
      "outputs": []
    },
    {
      "cell_type": "code",
      "source": [
        "# GDP per capita\n",
        "fig = px.scatter_geo(df, locations=\"iso_alpha\", color=\"continent\",\n",
        "                     hover_name=\"country\", size=\"gdpPercap\",\n",
        "                     animation_frame=\"year\",\n",
        "                     projection=\"natural earth\")\n",
        "fig.show()"
      ],
      "metadata": {
        "id": "6UxzL8RWSIVh"
      },
      "execution_count": null,
      "outputs": []
    },
    {
      "cell_type": "markdown",
      "source": [
        "**#3. Lines on Maps**"
      ],
      "metadata": {
        "id": "UZ2bqFvAWHYL"
      }
    },
    {
      "cell_type": "code",
      "source": [
        "# (1) Random lines within a continent\n",
        "# Import 'gapminder' dataset from plotly\n",
        "import plotly.express as px\n",
        "df = px.data.gapminder().query(\"year == 2007\")\n",
        "df.head(10)"
      ],
      "metadata": {
        "id": "LKIBVEShWHtn"
      },
      "execution_count": null,
      "outputs": []
    },
    {
      "cell_type": "code",
      "source": [
        "fig = px.line_geo(df, locations=\"iso_alpha\",\n",
        "                  color=\"continent\", # \"continent\" is one of the columns of gapminder\n",
        "                  projection=\"orthographic\") # The \"orthographic\" projection is an azimuthal perspective projection, projecting the Earth's surface from an infinite distance to a plane.\n",
        "fig.show()"
      ],
      "metadata": {
        "id": "n_dE4M_0W1iB"
      },
      "execution_count": null,
      "outputs": []
    },
    {
      "cell_type": "code",
      "source": [
        "# (2) American Airline flight paths (Feb 2011)\n",
        "# US Airport Traffic\n",
        "df_airports = pd.read_csv('https://raw.githubusercontent.com/plotly/datasets/master/2011_february_us_airport_traffic.csv')\n",
        "df_airports.head()"
      ],
      "metadata": {
        "id": "pcfqKv8XYJkj"
      },
      "execution_count": null,
      "outputs": []
    },
    {
      "cell_type": "code",
      "source": [
        "# American Airline Paths\n",
        "df_flight_paths = pd.read_csv('https://raw.githubusercontent.com/plotly/datasets/master/2011_february_aa_flight_paths.csv')\n",
        "df_flight_paths.head()"
      ],
      "metadata": {
        "id": "nGrVB11TYJbK"
      },
      "execution_count": null,
      "outputs": []
    },
    {
      "cell_type": "code",
      "source": [
        "# Plot with 'plotly.graph_objects'\n",
        "import plotly.graph_objects as go\n",
        "\n",
        "fig = go.Figure()\n",
        "fig.add_trace(go.Scattergeo(\n",
        "    locationmode = 'USA-states',\n",
        "    lon = df_airports['long'],\n",
        "    lat = df_airports['lat'],\n",
        "    hoverinfo = 'text',\n",
        "    text = df_airports['airport'],\n",
        "    mode = 'markers',\n",
        "    marker = dict(\n",
        "        size = 2,\n",
        "        color = 'rgb(255, 0, 0)',\n",
        "        line = dict(\n",
        "            width = 3,\n",
        "            color = 'rgba(68, 68, 68, 0)'\n",
        "        )\n",
        "    )))\n",
        "\n",
        "lons = []\n",
        "lats = []\n",
        "import numpy as np\n",
        "lons = np.empty(3 * len(df_flight_paths))\n",
        "lons[::3] = df_flight_paths['start_lon']\n",
        "lons[1::3] = df_flight_paths['end_lon']\n",
        "lons[2::3] = None\n",
        "lats = np.empty(3 * len(df_flight_paths))\n",
        "lats[::3] = df_flight_paths['start_lat']\n",
        "lats[1::3] = df_flight_paths['end_lat']\n",
        "lats[2::3] = None\n",
        "\n",
        "fig.add_trace(\n",
        "    go.Scattergeo(\n",
        "        locationmode = 'USA-states',\n",
        "        lon = lons,\n",
        "        lat = lats,\n",
        "        mode = 'lines',\n",
        "        line = dict(width = 1,color = 'red'),\n",
        "        opacity = 0.5\n",
        "    )\n",
        ")\n",
        "\n",
        "fig.update_layout(\n",
        "    title_text = 'Feb. 2011 American Airline flight paths<br>(Hover for airport names)',\n",
        "    showlegend = False,\n",
        "    geo = go.layout.Geo(\n",
        "        scope = 'north america',\n",
        "        projection_type = 'azimuthal equal area',\n",
        "        showland = True,\n",
        "        landcolor = 'rgb(243, 243, 243)',\n",
        "        countrycolor = 'rgb(204, 204, 204)',\n",
        "    ),\n",
        "    height=700,\n",
        ")\n",
        "\n",
        "fig.show()"
      ],
      "metadata": {
        "id": "bOgFmtZNWIZX"
      },
      "execution_count": null,
      "outputs": []
    },
    {
      "cell_type": "code",
      "source": [],
      "metadata": {
        "id": "4Xqr96t4D6Kd"
      },
      "execution_count": null,
      "outputs": []
    }
  ]
}